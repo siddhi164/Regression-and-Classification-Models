{
 "cells": [
  {
   "cell_type": "code",
   "execution_count": null,
   "metadata": {},
   "outputs": [],
   "source": [
    "# load the Dataset\n",
    "\n",
    "import pandas as pd\n",
    "data = pd.read.csv('Data/heart_disease_uci.csv')\n"
   ]
  },
  {
   "cell_type": "code",
   "execution_count": null,
   "metadata": {},
   "outputs": [],
   "source": [
    "import os\n",
    "print(os.listdir())\n"
   ]
  },
  {
   "cell_type": "code",
   "execution_count": null,
   "metadata": {},
   "outputs": [],
   "source": [
    "import pandas as pd\n",
    "print(pd.__version__)  # Check if it prints the Pandas version\n"
   ]
  },
  {
   "cell_type": "code",
   "execution_count": null,
   "metadata": {},
   "outputs": [],
   "source": [
    "import pandas as pd\n",
    "\n",
    "# Load dataset\n",
    "Data = pd.read_csv(\"Data/heart_disease_uci.csv\")\n",
    "\n",
    "# Display first few rows\n",
    "print(data.head())\n"
   ]
  },
  {
   "cell_type": "code",
   "execution_count": null,
   "metadata": {},
   "outputs": [],
   "source": [
    "import os\n",
    "print(os.listdir(\"Data\"))  # List files in the Data folder\n"
   ]
  },
  {
   "cell_type": "code",
   "execution_count": null,
   "metadata": {},
   "outputs": [],
   "source": [
    "import os\n",
    "print(os.getcwd())  # Prints the current working directory\n"
   ]
  },
  {
   "cell_type": "code",
   "execution_count": null,
   "metadata": {},
   "outputs": [],
   "source": [
    "import pandas as pd\n",
    "\n",
    "# Use \"../\" to move up one directory from \"scripts\" to the main folder\n",
    "data = pd.read_csv(\"../Data/heart_disease_uci.csv\")\n",
    "\n",
    "# Display first few rows\n",
    "print(data.head())\n"
   ]
  },
  {
   "cell_type": "code",
   "execution_count": null,
   "metadata": {},
   "outputs": [],
   "source": [
    "import os\n",
    "print(os.listdir(\"..\"))  # List everything in the parent directory\n"
   ]
  },
  {
   "cell_type": "code",
   "execution_count": null,
   "metadata": {},
   "outputs": [],
   "source": [
    "import os\n",
    "print(os.listdir(\"../Data\"))  # List files inside the Data folder\n"
   ]
  },
  {
   "cell_type": "code",
   "execution_count": 18,
   "metadata": {},
   "outputs": [
    {
     "name": "stdout",
     "output_type": "stream",
     "text": [
      "   age     sex    dataset               cp  trestbps   chol    fbs  \\\n",
      "0   63    Male  Cleveland   typical angina     145.0  233.0   True   \n",
      "1   67    Male  Cleveland     asymptomatic     160.0  286.0  False   \n",
      "2   67    Male  Cleveland     asymptomatic     120.0  229.0  False   \n",
      "3   37    Male  Cleveland      non-anginal     130.0  250.0  False   \n",
      "4   41  Female  Cleveland  atypical angina     130.0  204.0  False   \n",
      "\n",
      "          restecg  thalch  exang  oldpeak        slope   ca  \\\n",
      "0  lv hypertrophy   150.0  False      2.3  downsloping  0.0   \n",
      "1  lv hypertrophy   108.0   True      1.5         flat  3.0   \n",
      "2  lv hypertrophy   129.0   True      2.6         flat  2.0   \n",
      "3          normal   187.0  False      3.5  downsloping  0.0   \n",
      "4  lv hypertrophy   172.0  False      1.4    upsloping  0.0   \n",
      "\n",
      "                thal  num  \n",
      "0       fixed defect    0  \n",
      "1             normal    2  \n",
      "2  reversable defect    1  \n",
      "3             normal    0  \n",
      "4             normal    0  \n"
     ]
    }
   ],
   "source": [
    "import pandas as pd\n",
    "data = pd.read_csv(\"../Data/heart_disease_uci.csv\")\n",
    "print(data.head())  # Verify it loads correctly\n"
   ]
  },
  {
   "cell_type": "code",
   "execution_count": 20,
   "metadata": {},
   "outputs": [
    {
     "name": "stdout",
     "output_type": "stream",
     "text": [
      "<class 'pandas.core.frame.DataFrame'>\n",
      "RangeIndex: 920 entries, 0 to 919\n",
      "Data columns (total 15 columns):\n",
      " #   Column    Non-Null Count  Dtype  \n",
      "---  ------    --------------  -----  \n",
      " 0   age       920 non-null    int64  \n",
      " 1   sex       920 non-null    object \n",
      " 2   dataset   920 non-null    object \n",
      " 3   cp        920 non-null    object \n",
      " 4   trestbps  861 non-null    float64\n",
      " 5   chol      890 non-null    float64\n",
      " 6   fbs       830 non-null    object \n",
      " 7   restecg   918 non-null    object \n",
      " 8   thalch    865 non-null    float64\n",
      " 9   exang     865 non-null    object \n",
      " 10  oldpeak   858 non-null    float64\n",
      " 11  slope     611 non-null    object \n",
      " 12  ca        309 non-null    float64\n",
      " 13  thal      434 non-null    object \n",
      " 14  num       920 non-null    int64  \n",
      "dtypes: float64(5), int64(2), object(8)\n",
      "memory usage: 107.9+ KB\n",
      "None\n",
      "              age    trestbps        chol      thalch     oldpeak          ca  \\\n",
      "count  920.000000  861.000000  890.000000  865.000000  858.000000  309.000000   \n",
      "mean    53.510870  132.132404  199.130337  137.545665    0.878788    0.676375   \n",
      "std      9.424685   19.066070  110.780810   25.926276    1.091226    0.935653   \n",
      "min     28.000000    0.000000    0.000000   60.000000   -2.600000    0.000000   \n",
      "25%     47.000000  120.000000  175.000000  120.000000    0.000000    0.000000   \n",
      "50%     54.000000  130.000000  223.000000  140.000000    0.500000    0.000000   \n",
      "75%     60.000000  140.000000  268.000000  157.000000    1.500000    1.000000   \n",
      "max     77.000000  200.000000  603.000000  202.000000    6.200000    3.000000   \n",
      "\n",
      "              num  \n",
      "count  920.000000  \n",
      "mean     0.995652  \n",
      "std      1.142693  \n",
      "min      0.000000  \n",
      "25%      0.000000  \n",
      "50%      1.000000  \n",
      "75%      2.000000  \n",
      "max      4.000000  \n"
     ]
    }
   ],
   "source": [
    "print(data.info())\n",
    "print(data.describe())\n"
   ]
  },
  {
   "cell_type": "code",
   "execution_count": 24,
   "metadata": {},
   "outputs": [],
   "source": [
    "# Data Preparation - split data into features (X) and target (Y) for regression\n",
    "X_reg = data.drop(columns=['chol'])  # Features (all except \"chol\")\n",
    "Y_reg = data['chol']  # Target variable\n"
   ]
  }
 ],
 "metadata": {
  "kernelspec": {
   "display_name": "Python 3",
   "language": "python",
   "name": "python3"
  },
  "language_info": {
   "codemirror_mode": {
    "name": "ipython",
    "version": 3
   },
   "file_extension": ".py",
   "mimetype": "text/x-python",
   "name": "python",
   "nbconvert_exporter": "python",
   "pygments_lexer": "ipython3",
   "version": "3.10.0"
  }
 },
 "nbformat": 4,
 "nbformat_minor": 2
}
